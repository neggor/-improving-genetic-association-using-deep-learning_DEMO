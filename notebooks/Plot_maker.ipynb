{
 "cells": [
  {
   "cell_type": "code",
   "execution_count": null,
   "metadata": {},
   "outputs": [],
   "source": [
    "import numpy as np\n",
    "import pandas as pd\n",
    "import matplotlib.pyplot as plt\n",
    "import os\n",
    "from matplotlib.pyplot import figure\n",
    "from matplotlib import ticker\n",
    "import seaborn as sns\n",
    "\n"
   ]
  },
  {
   "cell_type": "code",
   "execution_count": null,
   "metadata": {},
   "outputs": [],
   "source": [
    "os.getcwd()\n",
    "os.chdir('..')\n"
   ]
  },
  {
   "cell_type": "markdown",
   "metadata": {},
   "source": [
    "# Introductory plots & data visualization:"
   ]
  },
  {
   "cell_type": "code",
   "execution_count": null,
   "metadata": {},
   "outputs": [],
   "source": [
    "X = np.load('data/processed/No_stratification/X_train.npy')"
   ]
  },
  {
   "cell_type": "code",
   "execution_count": null,
   "metadata": {},
   "outputs": [],
   "source": [
    "def plot_arena(X: np.array, labels = True, show = True):\n",
    "    plt.scatter(X[:, 1], X[:, 2], c = ((X[:, 0]) + 2) * 24 , s = 0.5)\n",
    "    if labels:\n",
    "        plt.title('Aphid trajectory\\n on an arabidopsis leaf', fontsize = 25)\n",
    "        plt.colorbar().set_label('Min.', fontsize = 15)\n",
    "        plt.ylabel('y', fontsize = 25)\n",
    "        plt.xlabel('x', fontsize = 25)\n",
    "\n",
    "    if show:\n",
    "        plt.show()"
   ]
  },
  {
   "cell_type": "code",
   "execution_count": null,
   "metadata": {},
   "outputs": [],
   "source": [
    "figure(figsize=(13, 10), dpi= 100)\n",
    "plot_arena(X[120])"
   ]
  },
  {
   "cell_type": "markdown",
   "metadata": {},
   "source": [
    "# Missing data plots"
   ]
  },
  {
   "cell_type": "code",
   "execution_count": null,
   "metadata": {},
   "outputs": [],
   "source": [
    "num_miss_values = np.load('data/interim/missing_data_info/nan_register.npy', allow_pickle= True)[:, 1]"
   ]
  },
  {
   "cell_type": "code",
   "execution_count": null,
   "metadata": {},
   "outputs": [],
   "source": [
    "figure(figsize=(13, 10), dpi= 100)\n",
    "n, bins, patches  = plt.hist(num_miss_values, 200, range = (1, 1000));\n",
    "for i in range(len(patches)):\n",
    "    patches[i].set_facecolor(plt.cm.viridis(n[i]/max(n)))\n",
    "plt.title('Number of missing steps', fontsize = 25)\n",
    "plt.xlabel('Steps missing', fontsize = 25)\n",
    "plt.ylabel('Number of arenas', fontsize = 25)\n",
    "plt.xticks(fontsize = 25)\n",
    "plt.yticks(fontsize = 25)\n"
   ]
  },
  {
   "cell_type": "code",
   "execution_count": null,
   "metadata": {},
   "outputs": [],
   "source": [
    "sum(num_miss_values > 0)"
   ]
  },
  {
   "cell_type": "code",
   "execution_count": null,
   "metadata": {},
   "outputs": [],
   "source": [
    "sum(num_miss_values > 1000)"
   ]
  },
  {
   "cell_type": "markdown",
   "metadata": {},
   "source": [
    "# Images"
   ]
  },
  {
   "cell_type": "code",
   "execution_count": null,
   "metadata": {},
   "outputs": [],
   "source": [
    "from src.features.process_data import convert_to_image\n",
    "\n",
    "X_train = convert_to_image(np.load('data/processed/No_stratification/X_train.npy')[:, :, [0, 1, 2, 9]],\n",
    "        resolution = (128, 128))\n"
   ]
  },
  {
   "cell_type": "code",
   "execution_count": null,
   "metadata": {},
   "outputs": [],
   "source": [
    "plt.figure(figsize=(10, 10), dpi=100)\n",
    "\n",
    "for i in range(9):\n",
    "    # Takes around 1 min\n",
    "    plt.subplot(3, 3, 1 + i)\n",
    "    plt.imshow(X_train[i*123], cmap= 'jet')\n",
    "    plt.axis('off')\n",
    "plt.subplots_adjust(wspace=0.1, hspace=0)\n",
    "plt.show()"
   ]
  },
  {
   "cell_type": "markdown",
   "metadata": {},
   "source": [
    "# Time series interim example"
   ]
  },
  {
   "cell_type": "code",
   "execution_count": null,
   "metadata": {},
   "outputs": [],
   "source": [
    "X = np.load('data/processed/No_stratification/X_train.npy')"
   ]
  },
  {
   "cell_type": "code",
   "execution_count": null,
   "metadata": {},
   "outputs": [],
   "source": [
    "X[123].shape"
   ]
  },
  {
   "cell_type": "code",
   "execution_count": null,
   "metadata": {},
   "outputs": [],
   "source": [
    "plt.figure(figsize=(50, 15), dpi=400)\n",
    "n_images = 21 \n",
    "names = ['time', 'x', 'y', 'dx', 'dy', 'mm_dx', 'mstd_dx', 'mm_dy', 'mstd_dy',\n",
    "        'speed', 'mm_speed', 'mstd_speed', 'acceleration', 'mm_acceleration',\n",
    "        'mstd_acceleration', 'angular_speed', 'mm_angular_speed', 'mstd_angular_speed',\n",
    "        'trav_distance', 'mm_trav_distance', 'mstd_trav_distance']\n",
    "for i in range(21):\n",
    "    # Takes around 1 min\n",
    "    plt.subplot(3, 7, 1 + i)\n",
    "    plt.plot(X[123][:, i], c = 'g', linewidth= 0.8, alpha = 1)\n",
    "    #plt.scatter(range(X[123][:, i].shape[0]), X[123][:, i], c = 'black', alpha = 1, s = 0.01)\n",
    "    plt.title(names[i], fontsize = 30)\n",
    "    plt.locator_params(axis = 'x', nbins=3)\n",
    "    plt.xticks(fontsize = 25)\n",
    "    plt.yticks(fontsize = 25)\n",
    "plt.subplots_adjust(left=0.1,\n",
    "                    bottom=0.1, \n",
    "                    right=0.9, \n",
    "                    top=0.9, \n",
    "                    wspace=0.4, \n",
    "                    hspace=0.4)\n",
    "\n",
    "plt.savefig('images\\sample_features.png')\n",
    "plt.show()"
   ]
  },
  {
   "cell_type": "markdown",
   "metadata": {},
   "source": [
    "# $H^2$ & $R^2$ Plots"
   ]
  },
  {
   "cell_type": "code",
   "execution_count": null,
   "metadata": {},
   "outputs": [],
   "source": [
    "# Load paths\n",
    "handcrafted_heritability = pd.read_csv('results\\Hand_features\\Handcrafted_dimensions_repeatability.csv', index_col= False)\n",
    "handcrafted_varaince_explained = pd.read_csv('results\\Hand_features\\handcrafted_dimensions_R2_86001.csv', index_col= False)\n",
    "\n",
    "supervised_heritability = pd.read_csv('results\\Supervised\\IT_C0-1-2-3-4-5-6-7-8-9-10-11-12-13-14-15-16-17-18-19-20_D1_GS1_snp86001_BS20_repeatability.csv', index_col= False)\n",
    "supervised_variance_explained =  pd.read_csv('results/Supervised/IT_C0-1-2-3-4-5-6-7-8-9-10-11-12-13-14-15-16-17-18-19-20_D1_GS1_snp86001_BS20_R2_86001.csv', index_col= False)\n",
    "\n",
    "self_supervised_heritability = pd.read_csv('results\\Self-Supervised\\MINIMAL_VAE_C0-1-2-3-4-5-6-7-8-9-10-11-12-13-14-15-16-17-18-19-20_D1_GS1_BS32_repeatability.csv', index_col= False)\n",
    "self_supervised_variance_explained =  pd.read_csv('results\\Self-Supervised\\MINIMAL_VAE_C0-1-2-3-4-5-6-7-8-9-10-11-12-13-14-15-16-17-18-19-20_D1_GS1_BS32_R2_86001.csv', index_col= False)\n",
    "\n",
    "contrastive_heritability = pd.read_csv('results\\Contrastive\\MINIMAL_Contrastive_C1-2-3-4-5-6-7-8-9-10-11-12-13-14-15-16-17-18-19-20_D1_BS128_repeatability.csv', index_col= False)\n",
    "contrastive_variance_explained =  pd.read_csv('results\\Contrastive\\MINIMAL_Contrastive_C1-2-3-4-5-6-7-8-9-10-11-12-13-14-15-16-17-18-19-20_D1_BS128_R2_86001.csv', index_col= False)\n",
    "\n",
    "\n",
    "H2s = [ handcrafted_heritability,\n",
    "        supervised_heritability,\n",
    "        self_supervised_heritability,\n",
    "        contrastive_heritability]\n",
    "\n",
    "R2s = [ handcrafted_varaince_explained,\n",
    "        supervised_variance_explained,\n",
    "        self_supervised_variance_explained,\n",
    "        contrastive_variance_explained]\n",
    "\n",
    "titles = [  'Trait quality for Handcrafted features.\\nBroad sense heritability and variance explained (for SNP 86001)',\n",
    "            'Trait quality for Inception Time features .\\nBroad sense heritability and variance explained (for SNP 86001)',\n",
    "            'Trait quality for VAE .\\nBroad sense heritability and variance explained (for SNP 86001)',\n",
    "            'Trait quality for Contrastive learning .\\nBroad sense heritability and variance explained (for SNP 86001)',\n",
    "        ]\n",
    "\n",
    "for approach in range(4):\n",
    "\n",
    "    figure(figsize=(20, 20), dpi=80)\n",
    "    plt.errorbar(   y = H2s[approach]['Unnamed: 0'],\n",
    "                    x = H2s[approach]['repeatability'],   \n",
    "                    xerr = (H2s[approach]['repeatability'] - H2s[approach]['lower'], \n",
    "                    H2s[approach]['upper']- H2s[approach]['repeatability']), \n",
    "                    fmt='o', \n",
    "                    capsize=5, \n",
    "                    color = 'black', \n",
    "                    ecolor= 'red', \n",
    "                    label = r'$H^2$')\n",
    "\n",
    "    plt.scatter(    y = R2s[approach]['Unnamed: 0'],\n",
    "                    x = R2s[approach]['R^2'],\n",
    "                    color = 'green',\n",
    "                    marker = \"*\",\n",
    "                    s = 200,\n",
    "                    label = r'$R^2$')\n",
    "\n",
    "    plt.title(titles[approach], fontsize=25)\n",
    "    plt.legend(prop={'size': 20})\n",
    "    plt.yticks(fontsize=20)\n",
    "    plt.xticks(fontsize=20)\n",
    "    plt.grid()\n",
    "    plt.show()"
   ]
  },
  {
   "cell_type": "markdown",
   "metadata": {},
   "source": [
    "# Reverse-GWAS plots"
   ]
  },
  {
   "cell_type": "code",
   "execution_count": null,
   "metadata": {},
   "outputs": [],
   "source": [
    "Handcrafted_SNP_perf = pd.read_csv('results\\Hand_features\\handcrafted_dimensions_reverseGwas_214k.csv')\n",
    "Supervised_SNP_perf = pd.read_csv('results\\Supervised\\IT_C0-1-2-3-4-5-6-7-8-9-10-11-12-13-14-15-16-17-18-19-20_D1_GS1_snp86001_BS20_reverseGwas_214k.csv')\n",
    "Self_supervised_SNP_perf = pd.read_csv('results\\Self-Supervised\\MINIMAL_VAE_C0-1-2-3-4-5-6-7-8-9-10-11-12-13-14-15-16-17-18-19-20_D1_GS1_BS32_reverse_GWAS_reverseGwas_214k.csv')\n",
    "Contrastive_SNP_perf = pd.read_csv('results\\Contrastive\\MINIMAL_Contrastive_C1-2-3-4-5-6-7-8-9-10-11-12-13-14-15-16-17-18-19-20_D1_BS128_reverseGwas_214k.csv')\n",
    "\n",
    "titles = [  'SVM on handcrafted features',\n",
    "            'SVM on traits extracted via supervised learning',\n",
    "            'SVM on latent dimensions\\nVariational Autoencoder',\n",
    "            'SVM on dimensions generated by\\nsupervised contrastive learning']\n",
    "\n",
    "SNP_perf = [ Handcrafted_SNP_perf,\n",
    "             Supervised_SNP_perf,\n",
    "             Self_supervised_SNP_perf,\n",
    "             Contrastive_SNP_perf]\n",
    "\n",
    "for approach in range(4):\n",
    "    test_perf = np.array(SNP_perf[approach]['Test MCC'])\n",
    "    test_perf[np.where(test_perf < 0)] = 0\n",
    "    chromosome = pd.read_csv('data/raw/raw_data/Chromosome_info/Crhomosome.csv')\n",
    "    my_map = {1 : 'black', 2: 'grey', 3 : 'black', 4: 'grey', 5 : 'black'}\n",
    "    figure(figsize=(20, 15), dpi=60)\n",
    "    plt.scatter(SNP_perf[approach]['SNP'], test_perf, s = 45, c= chromosome['x'].map(my_map))\n",
    "    plt.ylabel('MCC', fontsize = 20)\n",
    "    plt.xlabel('SNP', fontsize = 20)\n",
    "    plt.title(titles[approach], fontsize = 20)\n",
    "    #plt.axvline(86000, c ='red')\n",
    "    #plt.axvline(131996, c ='red', linestyle = '--', alpha = 0.5, label = 'SNP: 131996')\n",
    "    #plt.margins(0.01, 0.01)\n",
    "    #plt.legend(fontsize = 15)"
   ]
  },
  {
   "cell_type": "markdown",
   "metadata": {},
   "source": [
    "# PREDICTIVE PERFORMANCE ON SNP 86001 SUPERVISED APPROACHES"
   ]
  },
  {
   "cell_type": "code",
   "execution_count": null,
   "metadata": {},
   "outputs": [],
   "source": [
    "results = {'name': [], 'mean_acc':[], 'sd_acc': [], 'mean_MCC':[], 'sd_MCC': []}\n",
    "\n",
    "for res in os.listdir('models/Results/supervised'):\n",
    "    if 'csv' not in res:\n",
    "        continue\n",
    "    results['name'].append(res)\n",
    "    current_r = pd.read_csv('models/Results/supervised/' + res)\n",
    "    results['mean_acc'].append(current_r['acc'].mean())\n",
    "    results['sd_acc'].append(current_r['acc'].std())\n",
    "    results['mean_MCC'].append(current_r['mcc'].mean())\n",
    "    results['sd_MCC'].append(current_r['mcc'].std())\n",
    "\n",
    "results['name'][0] = 'IT full no str.'\n",
    "results['name'][1] = 'IT full'\n",
    "results['name'][2] = 'IT small no str.'\n",
    "results['name'][3] = 'IT small'\n",
    "results['name'][4] = 'Trans. no str'\n",
    "results['name'][5] = 'Trans.'\n",
    "results['name'][6] = 'Xception. no str'\n",
    "results['name'][7] = 'Xception'\n",
    "\n",
    "results = pd.DataFrame(results)"
   ]
  },
  {
   "cell_type": "code",
   "execution_count": null,
   "metadata": {},
   "outputs": [],
   "source": [
    "colnames = ['IT full no str.', 'IT full', 'IT full anti-str.', 'IT small no str.', 'IT small', 'IT small anti-str',\n",
    "            'Trans. no str', 'Trans.', 'Trans. anti-str', 'Xception. no str', 'Xception', 'Xception anti-str']\n",
    "\n",
    "results_accuracy = np.zeros(shape = (5, len(colnames)))\n",
    "results_MCC = np.zeros(shape = (5, len(colnames)))\n",
    "i = 0\n",
    "\n",
    "for res in os.listdir('models/Results/supervised'):\n",
    "    print(res)\n",
    "    if 'csv' not in res:\n",
    "        continue\n",
    "    current_r = pd.read_csv('models/Results/supervised/' + res)\n",
    "\n",
    "    results_accuracy[:, i] = current_r['acc']\n",
    "    results_MCC[:, i] = current_r['mcc']\n",
    "    i += 1\n",
    "\n",
    "\n",
    "\n",
    "results_accuracy = pd.DataFrame(results_accuracy)\n",
    "results_MCC = pd.DataFrame(results_MCC)\n",
    "\n",
    "results_accuracy.columns = colnames\n",
    "results_MCC.columns = colnames\n",
    "\n",
    "print(results_accuracy)\n",
    "print(results_MCC)"
   ]
  },
  {
   "cell_type": "code",
   "execution_count": null,
   "metadata": {},
   "outputs": [],
   "source": [
    "boxprops = dict(linewidth=3)\n",
    "whiskerprops  = dict(linewidth=3)\n",
    "capprops  = dict(linewidth=3)\n",
    "medianprops  = dict(linewidth=5, c = 'orange')\n",
    "flierprops = dict(marker='o', markerfacecolor='black', markersize=12, markeredgecolor='none')\n",
    "\n",
    "#General stuff\n",
    "fig, (ax0, ax1) = plt.subplots(ncols=2) \n",
    "fig.set_size_inches(20, 10)\n",
    "fig.suptitle('Genotype stratification performance', fontsize=20)\n",
    "ax0.set_title('Accuracy in test set', fontsize = 20)\n",
    "ax1.set_title('MCC. in test set', fontsize = 20)\n",
    "ax0.yaxis.set_tick_params(labelsize=20)\n",
    "ax1.yaxis.set_tick_params(labelsize=20)\n",
    "ax1.xaxis.set_tick_params(labelsize=20)\n",
    "ax0.xaxis.set_tick_params(labelsize=20)\n",
    "\n",
    "#ax0\n",
    "ax0.boxplot(results_accuracy[['IT full', 'IT small', 'Trans.', 'Xception']], boxprops=boxprops, whiskerprops = whiskerprops, capprops= capprops, medianprops = medianprops, flierprops = flierprops)\n",
    "ax0.set_xticklabels(['IT full', 'IT small', 'Trans.', 'Xception'])\n",
    "#plt.title('Accuracy\\nGenotype stratification', fontsize = 20)\n",
    "ax0.axhline(0.5891238670694864, xmax=5, xmin=0, ls = '--', alpha = 1, linewidth = 6, color = 'green', label = '% 1s in test set')\n",
    "ax0.grid()\n",
    "ax0.legend(fontsize = 20)\n",
    "\n",
    "#ax1\n",
    "ax1.boxplot(results_MCC[['IT full', 'IT small', 'Trans.', 'Xception']], boxprops=boxprops, whiskerprops = whiskerprops, capprops= capprops, medianprops = medianprops, flierprops = flierprops)\n",
    "ax1.set_xticklabels(['IT full', 'IT small', 'Trans.', 'Xception'])\n",
    "ax1.grid()\n",
    "ax1.axhline(0, xmax=5, xmin=0, alpha = 1, linewidth = 6, color = 'black')"
   ]
  },
  {
   "cell_type": "code",
   "execution_count": null,
   "metadata": {},
   "outputs": [],
   "source": [
    "fig, (ax0, ax1) = plt.subplots(ncols=2) \n",
    "fig.set_size_inches(20, 10)\n",
    "fig.suptitle('No stratification performance', fontsize=20)\n",
    "ax0.set_title('Accuracy in test set', fontsize = 20)\n",
    "ax1.set_title('MCC. in test set', fontsize = 20)\n",
    "ax0.yaxis.set_tick_params(labelsize=20)\n",
    "ax1.yaxis.set_tick_params(labelsize=20)\n",
    "ax1.xaxis.set_tick_params(labelsize=20)\n",
    "ax0.xaxis.set_tick_params(labelsize=20)\n",
    "#fig.autofmt_xdate(rotation=20)\n",
    "\n",
    "#ax0\n",
    "ax0.boxplot(results_accuracy[['IT full no str.', 'IT small no str.', 'Trans. no str', 'Xception. no str']], boxprops=boxprops, whiskerprops = whiskerprops, capprops= capprops, medianprops = medianprops, flierprops = flierprops)\n",
    "ax0.set_xticklabels(['IT full', 'IT small', 'Trans.', 'Xception'])\n",
    "#plt.title('Accuracy\\nGenotype stratification', fontsize = 20)\n",
    "ax0.axhline(0.5891238670694864, xmax=5, xmin=0, ls = '--', alpha = 1, linewidth = 6, color = 'green', label = '% 1s in test set')\n",
    "ax0.grid()\n",
    "ax0.legend(fontsize = 20)\n",
    "\n",
    "#ax1\n",
    "ax1.boxplot(results_MCC[['IT full no str.', 'IT small no str.', 'Trans. no str', 'Xception. no str']], boxprops=boxprops, whiskerprops = whiskerprops, capprops= capprops, medianprops = medianprops, flierprops = flierprops)\n",
    "ax1.set_xticklabels(['IT full', 'IT small', 'Trans.', 'Xception'])\n",
    "ax1.grid()\n",
    "ax1.axhline(0, xmax=5, xmin=0, alpha = 1, linewidth = 6, color = 'black')"
   ]
  },
  {
   "cell_type": "code",
   "execution_count": null,
   "metadata": {},
   "outputs": [],
   "source": [
    "fig, (ax0, ax1) = plt.subplots(ncols=2) \n",
    "fig.set_size_inches(20, 10)\n",
    "fig.suptitle('Anti-stratification performance', fontsize=20)\n",
    "ax0.set_title('Accuracy in test set', fontsize = 20)\n",
    "ax1.set_title('MCC. in test set', fontsize = 20)\n",
    "ax0.yaxis.set_tick_params(labelsize=20)\n",
    "ax1.yaxis.set_tick_params(labelsize=20)\n",
    "ax1.xaxis.set_tick_params(labelsize=20)\n",
    "ax0.xaxis.set_tick_params(labelsize=20)\n",
    "#fig.autofmt_xdate(rotation=20)\n",
    "\n",
    "#ax0\n",
    "ax0.boxplot(results_accuracy[['IT full anti-str.', 'IT small anti-str', 'Trans. anti-str', 'Xception anti-str']], boxprops=boxprops, whiskerprops = whiskerprops, capprops= capprops, medianprops = medianprops, flierprops = flierprops)\n",
    "ax0.set_xticklabels(['IT full', 'IT small', 'Trans.', 'Xception'])\n",
    "#plt.title('Accuracy\\nGenotype stratification', fontsize = 20)\n",
    "ax0.axhline(0.5891238670694864, xmax=5, xmin=0, ls = '--', alpha = 1, linewidth = 6, color = 'green', label = '% 1s in test set')\n",
    "ax0.grid()\n",
    "ax0.legend(fontsize = 20)\n",
    "\n",
    "#ax1\n",
    "ax1.boxplot(results_MCC[['IT full anti-str.', 'IT small anti-str', 'Trans. anti-str', 'Xception anti-str']], boxprops=boxprops, whiskerprops = whiskerprops, capprops= capprops, medianprops = medianprops, flierprops = flierprops)\n",
    "ax1.set_xticklabels(['IT full', 'IT small', 'Trans.', 'Xception'])\n",
    "ax1.grid()\n",
    "ax1.axhline(0, xmax=5, xmin=0, alpha = 1, linewidth = 6, color = 'black')"
   ]
  },
  {
   "cell_type": "markdown",
   "metadata": {},
   "source": [
    "## Correlation with last layer weights:\n"
   ]
  },
  {
   "cell_type": "code",
   "execution_count": null,
   "metadata": {},
   "outputs": [],
   "source": [
    "weights_last_layer = pd.read_csv('results\\Supervised\\IT_C0-1-2-3-4-5-6-7-8-9-10-11-12-13-14-15-16-17-18-19-20_D1_GS1_snp86001_BS20_ll_weights.csv', index_col= False)\n"
   ]
  },
  {
   "cell_type": "code",
   "execution_count": null,
   "metadata": {},
   "outputs": [],
   "source": [
    "print(weights_last_layer['0'].corr(supervised_heritability['repeatability']))\n",
    "print(weights_last_layer['1'].corr(supervised_heritability['repeatability']))\n",
    "print(weights_last_layer['0'].corr(supervised_variance_explained['R^2']))\n",
    "print(weights_last_layer['1'].corr(supervised_variance_explained['R^2']))"
   ]
  },
  {
   "cell_type": "markdown",
   "metadata": {},
   "source": [
    "# Some comparisons between approaches' performance"
   ]
  },
  {
   "cell_type": "code",
   "execution_count": null,
   "metadata": {},
   "outputs": [],
   "source": [
    "from scipy import stats\n",
    "# R^2 self-supervised vs Supervised\n",
    "print(stats.ttest_ind(self_supervised_variance_explained['R^2'], supervised_variance_explained['R^2'], equal_var= False))\n",
    "# R^2 self-supervised vs handcrafted\n",
    "print(stats.ttest_ind(self_supervised_variance_explained['R^2'], handcrafted_varaince_explained['R^2'], equal_var= False))\n",
    "# R^2 Supervisedd vs handcrafted\n",
    "print(stats.ttest_ind(supervised_variance_explained['R^2'], handcrafted_varaince_explained['R^2'], equal_var= False))\n",
    "\n",
    "\n",
    "# H^2 self-supervised vs Supervised\n",
    "print(stats.ttest_ind(self_supervised_heritability['repeatability'], supervised_heritability['repeatability'], equal_var= False))\n",
    "# H^2 self-supervised vs handcrafted\n",
    "print(stats.ttest_ind(self_supervised_heritability['repeatability'], handcrafted_heritability['repeatability'], equal_var= False))\n",
    "# H^2 Supervisedd vs handcrafted\n",
    "print(stats.ttest_ind(supervised_heritability['repeatability'], handcrafted_heritability['repeatability'], equal_var= False))\n",
    "\n"
   ]
  },
  {
   "cell_type": "markdown",
   "metadata": {},
   "source": [
    "# Interpretability Contrastive Dimensions"
   ]
  },
  {
   "cell_type": "code",
   "execution_count": null,
   "metadata": {},
   "outputs": [],
   "source": [
    "import pandas as pd\n",
    "import numpy as np\n",
    "Heritability_all = pd.read_csv('results\\Contrastive\\MINIMAL_Contrastive_C1-2-3-4-5-6-7-8-9-10-11-12-13-14-15-16-17-18-19-20_D1_BS128_repeatability.csv')\n",
    "Heritability_all_test = pd.read_csv('results\\Contrastive\\MINIMAL_Contrastive_C1-2-3-4-5-6-7-8-9-10-11-12-13-14-15-16-17-18-19-20_D1_BS128_test_repeatability.csv')"
   ]
  },
  {
   "cell_type": "code",
   "execution_count": null,
   "metadata": {},
   "outputs": [],
   "source": [
    "X_train = np.load('data/processed/Genotype_stratified/X_train.npy')\n",
    "X_val = np.load('data/processed/Genotype_stratified/X_val.npy')\n",
    "X_test = np.load('data/processed/Genotype_stratified/X_test.npy')"
   ]
  },
  {
   "cell_type": "code",
   "execution_count": null,
   "metadata": {},
   "outputs": [],
   "source": [
    "X_all = np.vstack((X_train, X_val, X_test))\n",
    "HD_contrastive = pd.read_csv('data\\processed\\Hidden_representations\\Contrastive\\MINIMAL_Contrastive_C1-2-3-4-5-6-7-8-9-10-11-12-13-14-15-16-17-18-19-20_D1_BS128.csv')"
   ]
  },
  {
   "cell_type": "code",
   "execution_count": null,
   "metadata": {},
   "outputs": [],
   "source": [
    "plt.figure(figsize=(50, 50), dpi=400)\n",
    "\n",
    "#for n, i in enumerate(['Dim_0', 'Dim_1', 'Dim_2', 'Dim_3', 'Dim_4', 'Dim_5',\n",
    "#            'Dim_6', 'Dim_7', 'Dim_8', 'Dim_9']):\n",
    "for i in ['Dim_0', 'Dim_1', 'Dim_2', 'Dim_3', 'Dim_4', 'Dim_5',\n",
    "            'Dim_6', 'Dim_7', 'Dim_8', 'Dim_9']:\n",
    "        fig, (ax1, ax2) = plt.subplots(1, 2, gridspec_kw={'width_ratios': [1, 1.3]})\n",
    "        fig.set_figheight(15)\n",
    "        fig.set_figwidth(25)\n",
    "        fig.set_dpi(200)\n",
    "        fig.tight_layout()\n",
    "\n",
    "        ax1.scatter(    X_all[HD_contrastive[i].argmax()][:, 1],\n",
    "                        X_all[HD_contrastive[i].argmax()][:, 2],\n",
    "                        c = ((X_all[HD_contrastive[i].argmax()][:, 0]) + 2) * 24,\n",
    "                        s = 1.5, )\n",
    "        ax1.set_title(f'{i}: maximum value', fontsize = 20)\n",
    "        ax1.set_xlabel('x', fontsize = 20)\n",
    "        ax1.set_ylabel('y', fontsize = 20)\n",
    "\n",
    "        im = ax2.scatter(    X_all[HD_contrastive[i].argmin()][:, 1],\n",
    "                        X_all[HD_contrastive[i].argmin()][:, 2],\n",
    "                        c =  (( X_all[HD_contrastive[i].argmin()][:, 0]) + 2) * 24,\n",
    "                        s = 1.5)\n",
    "        ax2.set_xlabel('x', fontsize = 20)\n",
    "       #ax2.set_ylabel('y', fontsize = 20)\n",
    "\n",
    "        ax2.set_title(f'{i}: minimum value', fontsize = 20)\n",
    "        \n",
    "        fig.colorbar(im, shrink=0.50).set_label('Minute', fontsize = 15)\n",
    "        fig.suptitle(f'Aphid trajectory comparison for {i}',  fontsize = 22)\n",
    "        fig.tight_layout()\n",
    "        fig.subplots_adjust(top=0.90)\n",
    "        plt.show()"
   ]
  }
 ],
 "metadata": {
  "interpreter": {
   "hash": "1c4978c00161b051580735162adcfc8dd634c768368a35231794f90f2447cc2e"
  },
  "kernelspec": {
   "display_name": "Python 3.8.8 64-bit",
   "language": "python",
   "name": "python3"
  },
  "language_info": {
   "codemirror_mode": {
    "name": "ipython",
    "version": 3
   },
   "file_extension": ".py",
   "mimetype": "text/x-python",
   "name": "python",
   "nbconvert_exporter": "python",
   "pygments_lexer": "ipython3",
   "version": "3.8.8"
  },
  "orig_nbformat": 4
 },
 "nbformat": 4,
 "nbformat_minor": 2
}
